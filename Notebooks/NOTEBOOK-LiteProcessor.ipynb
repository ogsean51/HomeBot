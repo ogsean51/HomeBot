{
 "cells": [
  {
   "cell_type": "code",
   "execution_count": 2,
   "metadata": {},
   "outputs": [],
   "source": [
    "import tensorflow as tf\n",
    "import tensorflow_io as tfio\n",
    "import numpy as np\n",
    "import matplotlib.pyplot as plt\n",
    "import os\n",
    "import pandas as pd"
   ]
  },
  {
   "cell_type": "code",
   "execution_count": 3,
   "metadata": {},
   "outputs": [],
   "source": [
    "def load_wav(filename):\n",
    "    file_contents = tf.io.read_file(filename)\n",
    "    wav, sample_rate = tf.audio.decode_wav(file_contents, desired_channels=1)\n",
    "    \n",
    "    wav = tf.squeeze(wav, axis=-1)\n",
    "    sample_rate = tf.cast(sample_rate, dtype=tf.int64)\n",
    "    \n",
    "    wav = tfio.audio.resample(wav, rate_in=sample_rate, rate_out=16000)\n",
    "    return wav"
   ]
  },
  {
   "cell_type": "code",
   "execution_count": 4,
   "metadata": {},
   "outputs": [],
   "source": [
    "def preprocess(file_path):\n",
    "    wav = load_wav(file_path)\n",
    "    wav = wav[:48000]\n",
    "    zero_padding = tf.zeros([48000] - tf.shape(wav), dtype=tf.float32)\n",
    "    wav = tf.concat([zero_padding, wav],0)\n",
    "    spectrogram = tf.signal.stft(wav, frame_length=320, frame_step=32)\n",
    "    spectrogram = tf.abs(spectrogram)\n",
    "    spectrogram = tf.expand_dims(spectrogram, axis=2)\n",
    "    return spectrogram"
   ]
  },
  {
   "cell_type": "code",
   "execution_count": 24,
   "metadata": {},
   "outputs": [],
   "source": [
    "interpreter = tf.lite.Interpreter(model_path=\"../Training/Models/processor.tflite\")\n",
    "\n",
    "input_details = interpreter.get_input_details()    \n",
    "output_details = interpreter.get_output_details()\n",
    "\n",
    "interpreter.allocate_tensors()\n",
    "\n",
    "input_shape = input_details[0]['shape']"
   ]
  },
  {
   "cell_type": "code",
   "execution_count": 26,
   "metadata": {},
   "outputs": [
    {
     "ename": "InvalidArgumentError",
     "evalue": "Expected 'tf.Tensor(False, shape=(), dtype=bool)' to be true. Summarized data: b'No files matched pattern: ../Training/Data/WakeWord/Other//*.wav'",
     "output_type": "error",
     "traceback": [
      "\u001b[1;31m---------------------------------------------------------------------------\u001b[0m",
      "\u001b[1;31mInvalidArgumentError\u001b[0m                      Traceback (most recent call last)",
      "Cell \u001b[1;32mIn[26], line 3\u001b[0m\n\u001b[0;32m      1\u001b[0m EVAL \u001b[39m=\u001b[39m \u001b[39m\"\u001b[39m\u001b[39m../Training/Data/WakeWord/Other/\u001b[39m\u001b[39m\"\u001b[39m\n\u001b[1;32m----> 3\u001b[0m \u001b[39meval\u001b[39m \u001b[39m=\u001b[39m tf\u001b[39m.\u001b[39;49mdata\u001b[39m.\u001b[39;49mDataset\u001b[39m.\u001b[39;49mlist_files(EVAL \u001b[39m+\u001b[39;49m\u001b[39m'\u001b[39;49m\u001b[39m/*.wav\u001b[39;49m\u001b[39m'\u001b[39;49m)\n\u001b[0;32m      5\u001b[0m data \u001b[39m=\u001b[39m tf\u001b[39m.\u001b[39mdata\u001b[39m.\u001b[39mDataset\u001b[39m.\u001b[39mzip((\u001b[39meval\u001b[39m, tf\u001b[39m.\u001b[39mdata\u001b[39m.\u001b[39mDataset\u001b[39m.\u001b[39mfrom_tensor_slices(tf\u001b[39m.\u001b[39mones(\u001b[39mlen\u001b[39m(\u001b[39meval\u001b[39m)))))\n\u001b[0;32m      7\u001b[0m filepath, label \u001b[39m=\u001b[39m data\u001b[39m.\u001b[39mshuffle(buffer_size\u001b[39m=\u001b[39m\u001b[39m10000\u001b[39m)\u001b[39m.\u001b[39mas_numpy_iterator()\u001b[39m.\u001b[39mnext()\n",
      "File \u001b[1;32mc:\\Users\\ograd\\HomeBot\\.venv\\lib\\site-packages\\tensorflow\\python\\data\\ops\\dataset_ops.py:1471\u001b[0m, in \u001b[0;36mDatasetV2.list_files\u001b[1;34m(file_pattern, shuffle, seed, name)\u001b[0m\n\u001b[0;32m   1464\u001b[0m condition \u001b[39m=\u001b[39m math_ops\u001b[39m.\u001b[39mgreater(array_ops\u001b[39m.\u001b[39mshape(matching_files)[\u001b[39m0\u001b[39m], \u001b[39m0\u001b[39m,\n\u001b[0;32m   1465\u001b[0m                              name\u001b[39m=\u001b[39m\u001b[39m\"\u001b[39m\u001b[39mmatch_not_empty\u001b[39m\u001b[39m\"\u001b[39m)\n\u001b[0;32m   1467\u001b[0m message \u001b[39m=\u001b[39m math_ops\u001b[39m.\u001b[39madd(\n\u001b[0;32m   1468\u001b[0m     \u001b[39m\"\u001b[39m\u001b[39mNo files matched pattern: \u001b[39m\u001b[39m\"\u001b[39m,\n\u001b[0;32m   1469\u001b[0m     string_ops\u001b[39m.\u001b[39mreduce_join(file_pattern, separator\u001b[39m=\u001b[39m\u001b[39m\"\u001b[39m\u001b[39m, \u001b[39m\u001b[39m\"\u001b[39m), name\u001b[39m=\u001b[39m\u001b[39m\"\u001b[39m\u001b[39mmessage\u001b[39m\u001b[39m\"\u001b[39m)\n\u001b[1;32m-> 1471\u001b[0m assert_not_empty \u001b[39m=\u001b[39m control_flow_ops\u001b[39m.\u001b[39;49mAssert(\n\u001b[0;32m   1472\u001b[0m     condition, [message], summarize\u001b[39m=\u001b[39;49m\u001b[39m1\u001b[39;49m, name\u001b[39m=\u001b[39;49m\u001b[39m\"\u001b[39;49m\u001b[39massert_not_empty\u001b[39;49m\u001b[39m\"\u001b[39;49m)\n\u001b[0;32m   1473\u001b[0m \u001b[39mwith\u001b[39;00m ops\u001b[39m.\u001b[39mcontrol_dependencies([assert_not_empty]):\n\u001b[0;32m   1474\u001b[0m   matching_files \u001b[39m=\u001b[39m array_ops\u001b[39m.\u001b[39midentity(matching_files)\n",
      "File \u001b[1;32mc:\\Users\\ograd\\HomeBot\\.venv\\lib\\site-packages\\tensorflow\\python\\util\\traceback_utils.py:153\u001b[0m, in \u001b[0;36mfilter_traceback.<locals>.error_handler\u001b[1;34m(*args, **kwargs)\u001b[0m\n\u001b[0;32m    151\u001b[0m \u001b[39mexcept\u001b[39;00m \u001b[39mException\u001b[39;00m \u001b[39mas\u001b[39;00m e:\n\u001b[0;32m    152\u001b[0m   filtered_tb \u001b[39m=\u001b[39m _process_traceback_frames(e\u001b[39m.\u001b[39m__traceback__)\n\u001b[1;32m--> 153\u001b[0m   \u001b[39mraise\u001b[39;00m e\u001b[39m.\u001b[39mwith_traceback(filtered_tb) \u001b[39mfrom\u001b[39;00m \u001b[39mNone\u001b[39m\n\u001b[0;32m    154\u001b[0m \u001b[39mfinally\u001b[39;00m:\n\u001b[0;32m    155\u001b[0m   \u001b[39mdel\u001b[39;00m filtered_tb\n",
      "File \u001b[1;32mc:\\Users\\ograd\\HomeBot\\.venv\\lib\\site-packages\\tensorflow\\python\\ops\\control_flow_ops.py:156\u001b[0m, in \u001b[0;36mAssert\u001b[1;34m(condition, data, summarize, name)\u001b[0m\n\u001b[0;32m    154\u001b[0m     xs \u001b[39m=\u001b[39m ops\u001b[39m.\u001b[39mconvert_n_to_tensor(data)\n\u001b[0;32m    155\u001b[0m     data_str \u001b[39m=\u001b[39m [_summarize_eager(x, summarize) \u001b[39mfor\u001b[39;00m x \u001b[39min\u001b[39;00m xs]\n\u001b[1;32m--> 156\u001b[0m     \u001b[39mraise\u001b[39;00m errors\u001b[39m.\u001b[39mInvalidArgumentError(\n\u001b[0;32m    157\u001b[0m         node_def\u001b[39m=\u001b[39m\u001b[39mNone\u001b[39;00m,\n\u001b[0;32m    158\u001b[0m         op\u001b[39m=\u001b[39m\u001b[39mNone\u001b[39;00m,\n\u001b[0;32m    159\u001b[0m         message\u001b[39m=\u001b[39m\u001b[39m\"\u001b[39m\u001b[39mExpected \u001b[39m\u001b[39m'\u001b[39m\u001b[39m%s\u001b[39;00m\u001b[39m'\u001b[39m\u001b[39m to be true. Summarized data: \u001b[39m\u001b[39m%s\u001b[39;00m\u001b[39m\"\u001b[39m \u001b[39m%\u001b[39m\n\u001b[0;32m    160\u001b[0m         (condition, \u001b[39m\"\u001b[39m\u001b[39m\\n\u001b[39;00m\u001b[39m\"\u001b[39m\u001b[39m.\u001b[39mjoin(data_str)))\n\u001b[0;32m    161\u001b[0m   \u001b[39mreturn\u001b[39;00m\n\u001b[0;32m    163\u001b[0m \u001b[39mwith\u001b[39;00m ops\u001b[39m.\u001b[39mname_scope(name, \u001b[39m\"\u001b[39m\u001b[39mAssert\u001b[39m\u001b[39m\"\u001b[39m, [condition, data]) \u001b[39mas\u001b[39;00m name:\n",
      "\u001b[1;31mInvalidArgumentError\u001b[0m: Expected 'tf.Tensor(False, shape=(), dtype=bool)' to be true. Summarized data: b'No files matched pattern: ../Training/Data/WakeWord/Other//*.wav'"
     ]
    }
   ],
   "source": [
    "EVAL = \"../Training/Data/WakeWord/Other\"\n",
    "\n",
    "eval = tf.data.Dataset.list_files(EVAL +'/*.wav')\n",
    "\n",
    "data = tf.data.Dataset.zip((eval, tf.data.Dataset.from_tensor_slices(tf.ones(len(eval)))))\n",
    "\n",
    "filepath, label = data.shuffle(buffer_size=10000).as_numpy_iterator().next()\n",
    "spectrogram = preprocess(filepath)\n",
    "print(filepath)\n",
    "plt.figure(figsize=(30,20))\n",
    "plt.imshow(tf.transpose(spectrogram)[0])\n",
    "plt.show"
   ]
  },
  {
   "cell_type": "code",
   "execution_count": 37,
   "metadata": {},
   "outputs": [
    {
     "data": {
      "text/plain": [
       "(1, 1491, 257, 1)"
      ]
     },
     "execution_count": 37,
     "metadata": {},
     "output_type": "execute_result"
    }
   ],
   "source": [
    "input_data = np.asarray(spectrogram, dtype=np.float32)\n",
    "\n",
    "input_data = np.expand_dims(input_data, axis=0)\n",
    "\n",
    "input_data.shape\n"
   ]
  },
  {
   "cell_type": "code",
   "execution_count": 43,
   "metadata": {},
   "outputs": [
    {
     "data": {
      "text/plain": [
       "array([[0.9999938]], dtype=float32)"
      ]
     },
     "execution_count": 43,
     "metadata": {},
     "output_type": "execute_result"
    }
   ],
   "source": [
    "\n",
    "#Predict model with processed data  \n",
    "interpreter.set_tensor(input_details[0]['index'], input_data)\n",
    "interpreter.invoke()\n",
    "prediction = interpreter.get_tensor(output_details[0]['index'])  \n",
    "prediction"
   ]
  },
  {
   "cell_type": "code",
   "execution_count": 6,
   "metadata": {},
   "outputs": [
    {
     "data": {
      "text/plain": [
       "'[   0    0    0 ... 1518 1472 1355]'"
      ]
     },
     "execution_count": 6,
     "metadata": {},
     "output_type": "execute_result"
    }
   ],
   "source": [
    "df = pd.read_csv('../Training/Data/WakeWord/WakeLog.csv')\n",
    "list = df.iloc[0]['Data']\n",
    "list"
   ]
  }
 ],
 "metadata": {
  "kernelspec": {
   "display_name": "Python 3",
   "language": "python",
   "name": "python3"
  },
  "language_info": {
   "codemirror_mode": {
    "name": "ipython",
    "version": 3
   },
   "file_extension": ".py",
   "mimetype": "text/x-python",
   "name": "python",
   "nbconvert_exporter": "python",
   "pygments_lexer": "ipython3",
   "version": "3.10.0"
  },
  "orig_nbformat": 4,
  "vscode": {
   "interpreter": {
    "hash": "94ed0b9aa40c7dd1fb8dd0045ff3e783791ba910677e28af0e77584ec6f77b02"
   }
  }
 },
 "nbformat": 4,
 "nbformat_minor": 2
}
